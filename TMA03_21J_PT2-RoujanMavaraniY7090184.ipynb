{
    "cells": [
        {
            "cell_type": "markdown",
            "metadata": {
                "QUESTION": "DETAILS",
                "TYPE": "ANSWER",
                "cellcol": "answercell",
                "trusted": true
            },
            "source": [
                "### Edit this cell to enter your name and PI. Then run the JavaScript cell below to identify answer and feedback cells.\n",
                "**Name:**\\\n",
                "**PI:** \n"
            ]
        },
        {
            "cell_type": "code",
            "execution_count": null,
            "metadata": {
                "TYPE": "SPECIAL",
                "jupyter.outputs_hidden": true,
                "trusted": true
            },
            "outputs": [],
            "source": [
                "%%javascript\n",
                "var head=document.getElementsByTagName('head')[0],",
                "style = document.createElement('style'),",
                "css = '.answercell{background-color: #ffffcc;}.feedbackcell{background-color: #c8ecff;}.guidancecell{background-color: #f2c0d4;}';",
                "head.appendChild(style);",
                "style.type = 'text/css';",
                "style.appendChild(document.createTextNode(css));",
                "Jupyter.notebook.get_cells().map(function(cell) {if (cell.metadata['cellcol']!= undefined) {cell.element.addClass(cell.metadata['cellcol']);}});"
            ]
        },
        {
            "cell_type": "markdown",
            "metadata": {
                "TYPE": "TEXT",
                "deletable": false,
                "editable": false
            },
            "source": [
                "# TMA03 PART 2\n",
                "M269 requires all assignments to be submitted electronically, by following the\n",
                "link(s) from your StudentHome page to the online TMA/EMA service.\n",
                "\n",
                "If you foresee any difficulty with submitting your assignment on time then you\n",
                "should contact your tutor well in advance of the cut-off date.\n",
                "\n",
                "For further information about policy, procedure and general submission of\n",
                "assignments please refer to the Assessment Handbook, which can also be accessed\n",
                "via your StudentHome page.\n",
                "\n",
                "The learning outcomes assessed by each questions are outlined at the head of\n",
                "the question.\n",
                "\n",
                "If you use an algorithm, data structure or operation that is not allowed in a\n",
                "part of a question, your answer to that part will be awarded zero marks.\n",
                "\n",
                "Your TMA should be opened and edited in Jupyter notebooks. Ensure you put your\n",
                "name and PI at the top of this document. You should run the second cell to\n",
                "highlight the answer cells in yellow.\n",
                "\n"
            ]
        },
        {
            "cell_type": "markdown",
            "metadata": {
                "TYPE": "TEXT",
                "deletable": false,
                "editable": false
            },
            "source": [
                "## Part 2 (50%)\n",
                "This is part 2 of 2 of TMA03. There are five questions worth 50 marks.\n",
                "\n"
            ]
        },
        {
            "cell_type": "markdown",
            "metadata": {
                "TYPE": "TEXT",
                "deletable": false,
                "editable": false
            },
            "source": [
                "### Question 3 (9 marks)\n",
                "\n",
                "You should be able to answer this question after you have studied Unit 6.\n",
                "\n",
                "Using the truth table below to support your arguments, identify and explain whether the\n",
                "well-formed formula (P&rarr;Q)&rarr;(\u00acQ&rarr;\u00acP) is:\n",
                "a) satisfiable\n",
                "b) contingent\n",
                "c) a tautology.\n",
                "\n",
                "\n",
                "\n",
                "\n",
                "| P |\tQ |\tP&rarr;Q | &#172;Q |\t&#172;P |\t&#172;Q&rarr;&#172;P |\t(P&rarr;Q)&rarr;(&#172;Q&rarr;&#172;P) |\n",
                "|:--|:--|:--|:--|:--|:--|:--|\n",
                "| T | T\t|\t |\t |\t |\t |\t |\n",
                "| T |\tF |\t |\t |\t |\t |\t |\n",
                "| F | T |\t |   |\t |\t |\t |\n",
                "| F |\tF |  |\t |\t |\t |\t |\n",
                "\n",
                "For full marks, your explanations for each of a), b) and c) above will need to include definitions of the terms.\n",
                "\n",
                "You may like to refer to [Extended Syntax](https://www.markdownguide.org/extended-syntax/) for help in creating tables in MarkDown. An arrow can be included using the code `\\&rarr;` and a not sign using the code `\\&#172;`\n",
                "\n"
            ]
        },
        {
            "cell_type": "markdown",
            "metadata": {
                "QUESTION": "3",
                "TYPE": "ANSWER",
                "cellcol": "answercell",
                "deletable": false
            },
            "source": [
                "*Write your answer here*\n",
                "\n",
                "\n"
            ]
        },
        {
            "cell_type": "markdown",
            "metadata": {
                "TYPE": "TEXT",
                "deletable": false,
                "editable": false
            },
            "source": [
                "### Question 4 (8 marks)\n",
                "You should be able to answer this question after you have studied Unit 6.\n",
                "\n",
                "Consider the following particular interpretation &#618;  for predicate logic allowing facts to be expressed about cheeses, their countries of origin and where they are exported.\n",
                "\n",
                "The domain of elements is &#394; = { France, Greece, Turkey, Brazil, Tibet, Salers, Brie, Halloumi, Orgu, Serrano, Churu}.\n",
                "\n",
                "The constants `france, greece, turkey, brazil, tibet, salers, brie, halloumi, orgu, serrano, churu` are assigned to the corresponding elements.\n",
                "\n",
                "Two predicate symbols are assigned binary relations as follows:\\\n",
                "&#618;(is_produced_in) = { (Salers, France), (Brie, France),  (Halloumi, Greece), (Orgu, Turkey), (Serrano, Brazil), (Churu, Tibet) }\n",
                "\n",
                "&#618;(is_exported_to) = { (Brie, Greece), (Halloumi, France), (Orgu, France), (Salers, Greece), (Serrano, Turkey), (Halloumi, Tibet), (Orgu, Tibet), (Serrano, Tibet), (Halloumi, Brazil) }\n",
                "\n",
                "For both relations, the first element of each tuple is the cheese\u2019s name and the second is the country\u2019s name.\n",
                "\n"
            ]
        },
        {
            "cell_type": "markdown",
            "metadata": {
                "TYPE": "TEXT",
                "deletable": false,
                "editable": false
            },
            "source": [
                "#### (a) (2 marks)\n",
                "\n",
                "Consider the English sentence:\n",
                "> \u201cThere is at least one cheese that Turkey produces that is exported to France.\u201d\n",
                "\n",
                "Write this as a well-formed predicate logic formula.  \n",
                "\n"
            ]
        },
        {
            "cell_type": "markdown",
            "metadata": {
                "QUESTION": "4a",
                "TYPE": "ANSWER",
                "cellcol": "answercell",
                "deletable": false
            },
            "source": [
                "*Write your answer here*\n",
                "You can copy these codes if needed:\n",
                "\n",
                "|Symbol   |Code   |\n",
                "|---|---|\n",
                "|&#8707;   |&amp;#8707;   |\n",
                "|&#8743;   |&amp;#8743;   |\n",
                "|&#8744;   |&amp;#8744;   |\n",
                "|&#8714;   |&amp;#8714;   |\n",
                "|&#x2C6F;  |&amp;#x2C6F;   |\n",
                "\n"
            ]
        },
        {
            "cell_type": "markdown",
            "metadata": {
                "TYPE": "TEXT",
                "deletable": false,
                "editable": false
            },
            "source": [
                "#### (b) (1 mark)\n",
                "Is this formula TRUE  or FALSE under the interpretation given above?\n",
                "\n"
            ]
        },
        {
            "cell_type": "markdown",
            "metadata": {
                "QUESTION": "4b",
                "TYPE": "ANSWER",
                "cellcol": "answercell",
                "deletable": false
            },
            "source": [
                "*Write your answer here*\n",
                "\n"
            ]
        },
        {
            "cell_type": "markdown",
            "metadata": {
                "TYPE": "TEXT",
                "deletable": false,
                "editable": false
            },
            "source": [
                "#### (c) (4 marks)\n",
                "Explain your answer to part b. You should consider any relevant values for the variables, and show, using the domain and interpretation given above, whether they make the formula TRUE or FALSE. In your explanation, make sure that you use formal notation.\n",
                "\n"
            ]
        },
        {
            "cell_type": "markdown",
            "metadata": {
                "QUESTION": "4c",
                "TYPE": "ANSWER",
                "cellcol": "answercell",
                "deletable": false
            },
            "source": [
                "*Write your answer here*\n",
                "\n"
            ]
        },
        {
            "cell_type": "markdown",
            "metadata": {
                "TYPE": "TEXT",
                "deletable": false,
                "editable": false
            },
            "source": [
                "#### (d) (1 mark)\n",
                "Give an appropriate English translation of the well-formed formula:\\\n",
                "&#x2C6F;X.( &#172;is_exported_to(X, tibet) &rarr; is_produced_in (X, france)) .\n",
                "\n",
                "\n"
            ]
        },
        {
            "cell_type": "markdown",
            "metadata": {
                "QUESTION": "4d",
                "TYPE": "ANSWER",
                "cellcol": "answercell",
                "deletable": false
            },
            "source": [
                "*Write your answer here*\n",
                "\n"
            ]
        },
        {
            "cell_type": "markdown",
            "metadata": {
                "TYPE": "TEXT",
                "deletable": false,
                "editable": false
            },
            "source": [
                "### Question 5 (10 marks)\n",
                "You should be able to answer this question after you have studied Unit 6.\n",
                "\n",
                "The interpretation of the previous question can also be represented by a database containing the following tables and data:\n",
                "\n",
                "Table **is_produced_in**\n",
                "\n",
                "| cheese | origin |\n",
                "|--------|--------|\n",
                "| Brie | France |\n",
                "| Chrur | Tibet |\n",
                "| Halloumi  | Greece |\n",
                "| Orgu | Turkey |\n",
                "| Salers | France |\n",
                "| Serrano | Brazil |\n",
                "\n",
                "Table **is_exported_to**\n",
                "\n",
                "| product | exportcountry |\n",
                "|--------|--------|\n",
                "| Brie | Greece |\n",
                "| Halloumi  | Brazil |\n",
                "| Halloumi   | France |\n",
                "| Halloumi | Tibet |\n",
                "| Orgu | France |\n",
                "| Orgu | Tibet |\n",
                "| Salers | Greece |\n",
                "| Serrano | Tibet |\n",
                "| Serrano | Turkey |\n",
                "\n"
            ]
        },
        {
            "cell_type": "markdown",
            "metadata": {
                "TYPE": "TEXT",
                "deletable": false,
                "editable": false
            },
            "source": [
                "#### (a) (2 marks)\n",
                "Give the table returned by the query:\n",
                "```SQL\n",
                "SELECT product, exportcountry\n",
                "FROM is_exported_to CROSS JOIN is_produced_in\n",
                "WHERE product = cheese AND origin = 'France';\n",
                "```\n"
            ]
        },
        {
            "cell_type": "markdown",
            "metadata": {
                "QUESTION": "5a",
                "TYPE": "ANSWER",
                "cellcol": "answercell",
                "deletable": false
            },
            "source": [
                "*Write your answer here*\n",
                "\n"
            ]
        },
        {
            "cell_type": "markdown",
            "metadata": {
                "TYPE": "TEXT",
                "deletable": false,
                "editable": false
            },
            "source": [
                "#### (b) (3 marks)\n",
                "What is the question that the query is answering?\n",
                "\n"
            ]
        },
        {
            "cell_type": "markdown",
            "metadata": {
                "QUESTION": "5b",
                "TYPE": "ANSWER",
                "cellcol": "answercell",
                "deletable": false
            },
            "source": [
                "*Write your answer here*\n",
                "\n"
            ]
        },
        {
            "cell_type": "markdown",
            "metadata": {
                "TYPE": "TEXT",
                "deletable": false,
                "editable": false
            },
            "source": [
                "#### (c) (5 marks)\n",
                "Using the SQL introduced in the module, write an SQL query that generates a table of cheeses exported to either of Brazil and Tibet together with their country of origin.\n",
                "\n"
            ]
        },
        {
            "cell_type": "markdown",
            "metadata": {
                "QUESTION": "5c",
                "TYPE": "ANSWER",
                "cellcol": "answercell",
                "deletable": false
            },
            "source": [
                "*Write your answer here*\n",
                "\n"
            ]
        },
        {
            "cell_type": "markdown",
            "metadata": {
                "TYPE": "TEXT",
                "deletable": false,
                "editable": false
            },
            "source": [
                "#### Question 6 (8 marks)\n",
                "You should be able to answer this question after you have studied Unit 7.\n",
                "For each of the statements below, identify whether the statement is true, or false, and write a brief explanation why, clearly explaining the terms you use.\n"
            ]
        },
        {
            "cell_type": "markdown",
            "metadata": {
                "TYPE": "TEXT",
                "deletable": false,
                "editable": false
            },
            "source": [
                "#### (a) (2 marks)\n",
                "Finding the prime factors of an integer is computable.\n",
                "\n"
            ]
        },
        {
            "cell_type": "markdown",
            "metadata": {
                "QUESTION": "6a",
                "TYPE": "ANSWER",
                "cellcol": "answercell",
                "deletable": false
            },
            "source": [
                "*Write your answer here*\n",
                "\n"
            ]
        },
        {
            "cell_type": "markdown",
            "metadata": {
                "TYPE": "TEXT",
                "deletable": false,
                "editable": false
            },
            "source": [
                "#### (b) (2 marks)\n",
                "Finding the prime factors of an integer is always in the class P.\n",
                "\n"
            ]
        },
        {
            "cell_type": "markdown",
            "metadata": {
                "QUESTION": "6b",
                "TYPE": "ANSWER",
                "cellcol": "answercell",
                "deletable": false
            },
            "source": [
                "*Write your answer here*\n",
                "\n"
            ]
        },
        {
            "cell_type": "markdown",
            "metadata": {
                "TYPE": "TEXT",
                "deletable": false,
                "editable": false
            },
            "source": [
                "#### (c) (2 marks)\n",
                "Deciding whether two programs produce exactly the same outputs for the same inputs is decidable.\n",
                "\n"
            ]
        },
        {
            "cell_type": "markdown",
            "metadata": {
                "QUESTION": "6c",
                "TYPE": "ANSWER",
                "cellcol": "answercell",
                "deletable": false
            },
            "source": [
                "*Write your answer here*\n",
                "\n"
            ]
        },
        {
            "cell_type": "markdown",
            "metadata": {
                "TYPE": "TEXT",
                "deletable": false,
                "editable": false
            },
            "source": [
                "#### (d) (2 marks)\n",
                "Deciding whether a given program will terminate for every possible input is undecidable.\n",
                "\n"
            ]
        },
        {
            "cell_type": "markdown",
            "metadata": {
                "QUESTION": "6d",
                "TYPE": "ANSWER",
                "cellcol": "answercell",
                "deletable": false
            },
            "source": [
                "*Write your answer here*\n",
                "\n"
            ]
        },
        {
            "cell_type": "markdown",
            "metadata": {
                "TYPE": "TEXT",
                "deletable": false,
                "editable": false
            },
            "source": [
                "#### Question 7 (15 marks)\n",
                "You should be able to answer this question after you have studied Unit 7.\n",
                "A TV programme is planning to screen a public lecture on aspects of Computability.  To help shape the lecture, you\u2019ve been asked to prepare a short report for the producers on the topics **\u2018decision problems\u2019** and **\u2018undecidability\u2019** with a particular focus on **the equivalence problem**.\n",
                "You should assume that the producers do not have a background in computer science and that the programme\u2019s intended audience is the general public.\n",
                "Your report **must** have the following structure:\n",
                "1.\tA suitable title and a short paragraph defining computability.\n",
                "2.\tA paragraph introducing decision problems.\n",
                "3.\tA paragraph in which you describe the issue of undecidability.\n",
                "4.\tA paragraph describing how undecidability relates to the equivalence problem.\n",
                "5.\tA summary that describes why the equivalence problem is important in computing, using a relevant example.\n",
                "Some marks will be awarded for a clear coherent text that is appropriate for its audience, so avoid unexplained technical jargon and abrupt changes of topic, and make sure your sentences fit together to tell an overall \u2018story\u2019. As a guide, you should aim to write roughly 800 words.\n",
                "\n",
                "\n"
            ]
        },
        {
            "cell_type": "markdown",
            "metadata": {
                "QUESTION": "7",
                "TYPE": "ANSWER",
                "cellcol": "answercell",
                "deletable": false
            },
            "source": [
                "*Write your answer here*\n",
                "\n",
                "\n"
            ]
        }
    ],
    "metadata": {
        "kernelspec": {
            "display_name": "Python 3",
            "language": "python",
            "name": "python3"
        },
        "language_info": {
            "codemirror_mode": {
                "name": "ipython",
                "version": 3
            },
            "file_extension": ".py",
            "mimetype": "text/x-python",
            "name": "python",
            "nbconvert_exporter": "python",
            "pygments_lexer": "ipython3",
            "version": "3.8.3"
        },
        "toc": {
            "base_numbering": 1,
            "nav_menu": {},
            "number_sections": false,
            "sideBar": true,
            "skip_h1_title": false,
            "title_cell": "Table of Contents",
            "title_sidebar": "Contents",
            "toc_cell": false,
            "toc_position": {},
            "toc_section_display": true,
            "toc_window_display": false
        }
    },
    "nbformat": 4,
    "nbformat_minor": 4
}