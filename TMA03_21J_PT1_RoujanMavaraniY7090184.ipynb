{
    "cells": [
        {
            "cell_type": "markdown",
            "metadata": {
                "QUESTION": "DETAILS",
                "TYPE": "ANSWER",
                "cellcol": "answercell",
                "trusted": true
            },
            "source": [
                "### Edit this cell to enter your name and PI. Then run the JavaScript cell below to identify answer and feedback cells.\n",
                "**Name:**\\\n",
                "**PI:** \n"
            ]
        },
        {
            "cell_type": "code",
            "execution_count": null,
            "metadata": {
                "TYPE": "SPECIAL",
                "jupyter.outputs_hidden": true,
                "trusted": true
            },
            "outputs": [],
            "source": [
                "%%javascript\n",
                "var head=document.getElementsByTagName('head')[0],",
                "style = document.createElement('style'),",
                "css = '.answercell{background-color: #ffffcc;}.feedbackcell{background-color: #c8ecff;}.guidancecell{background-color: #f2c0d4;}';",
                "head.appendChild(style);",
                "style.type = 'text/css';",
                "style.appendChild(document.createTextNode(css));",
                "Jupyter.notebook.get_cells().map(function(cell) {if (cell.metadata['cellcol']!= undefined) {cell.element.addClass(cell.metadata['cellcol']);}});"
            ]
        },
        {
            "cell_type": "markdown",
            "metadata": {
                "TYPE": "TEXT",
                "deletable": false,
                "editable": false
            },
            "source": [
                "# TMA03 PART 1\n",
                "This tutor-marked assignment (**M269 TMA 02**) must be submitted by 12 noon (UK local time) on the cut-off date. **Please refer to the study planner on the M269 website for the cut-off date.**\n",
                "\n",
                "M269 requires all assignments to be submitted electronically. To submit an assignment, please follow the link(s) from your StudentHome page to the online TMA/EMA service.\n",
                "\n",
                "If you foresee any difficulty with submitting your assignment on time, then you should contact your tutor well in advance of the cut-off date.\n",
                "\n",
                "For further information about policy, procedure and general submission of assignments please refer to the [Assessment Handbook](https://help.open.ac.uk/documents/policies/assessment-handbook), which can also be accessed via your StudentHome page.\n",
                "\n",
                "The learning outcomes assessed by each question are outlined at the head of the question.\n",
                "\n",
                "If you use an algorithm, data structure or operation that is not allowed in a part of a question, your answer to that part will be awarded zero marks.\n",
                "\n",
                "Your TMA should be opened and edited in Jupyter notebooks. Ensure you put your name and PI at the top of this document. You should run the second cell to highlight the answer cells in yellow.\n",
                "\n"
            ]
        },
        {
            "cell_type": "markdown",
            "metadata": {
                "TYPE": "TEXT",
                "deletable": false,
                "editable": false
            },
            "source": [
                "## Part 1 (50%)\n",
                "This is part 1 of 2 of TMA03. There are two questions worth 50 marks.\n",
                "\n"
            ]
        },
        {
            "cell_type": "markdown",
            "metadata": {
                "TYPE": "TEXT",
                "deletable": false,
                "editable": false
            },
            "source": [
                "### Question 1 (25 marks)\n",
                "\n",
                "You should be able to answer this question after you have studied Chapter 8.\n",
                "This question tests the following learning outcomes:\n",
                "- Apply ADTs (e.g. sets, bags or maps) and algorithmic techniques to efficiently solve computational problems.\n",
                "- Explain in a clear and succinct way how an algorithm or data structure works, and its assumptions, in order to communicate with peers\n",
                "- Analyse the complexity of algorithms to support design choices\n",
                "- Write readable, tested and documented Python functions and classes to implement algorithms and abstract data types\n",
                "\n",
                "A **bag** is an unordered collection that may contain duplicate items, as described in Chapter 8 Section 5.  For this question we wish to define a version of the Bag ADT that has some of the same operations as the Set ADT that is implemented in Python, plus two more operations, Multiplicity and Ordered, as listed below.  We have omitted the set/bag operations of Intersection, Union and Difference as we do not need them for this question.\n",
                "\n",
                "\n",
                "\n",
                "| Operation | \tEffect |\tPython |\n",
                "| :--- | :-- |:-- |\n",
                "|New\t| create a new empty bag |\t```b = Bag() ``` |\n",
                "| Size|\treturns total number of items in the bag |\t```b.size()``` |\n",
                "| Membership |\tcheck if an item is in the bag | ```b.contains(item)``` |\n",
                "| Add\t| adds one copy of item to the bag |```b.add(item)``` |\n",
                "| Remove |\tremoves one copy of item from the bag |\t```b.discard(item)``` |\n",
                "| Contains |\treturns True if item is in the bag. otherwise False |\t```b.contains(item)``` |\n",
                "| Multiplicity |\treturns the number of occurrences of item in the bag |\t```b.multiplicity(item)``` |\n",
                "| Ordered |\treturns the contents of the bag as a sequence of pairs (count, item), in decreasing order of count |\t```b.ordered()``` |\n",
                "\n",
                "Note the explanation in Subsection 8.5.1 of the subtle ways in which some bag operations differ from their equivalent operations on sets, because there can be multiple copies of items in a bag, unlike in a set where there can only be one copy.  \n",
                "\n"
            ]
        },
        {
            "cell_type": "markdown",
            "metadata": {
                "TYPE": "TEXT",
                "deletable": false,
                "editable": false
            },
            "source": [
                "#### (a) (4 marks)\n",
                "\n",
                "We provide below a partial implementation in Python of some operations of the bag ADT defined above:\n",
                "\n",
                "You are to complete this partial implementation, which is based on the Python class Counter, which is in many ways similar to a bag but with differences explained in Subsection 8.6.  This ADT makes up for those deficiencies.\n",
                "\n",
                "Add the Python code below for the two incomplete functions `contains` and `multiplicity` but leave the function `ordered`  incomplete for now.  You will be asked to complete it later.\n",
                "\n",
                "Remember that you can only use the Python data types, methods and functions listed in the chapter summaries.\n",
                "\n",
                "After you have completed the two functions, check your newly written functions by running  the test code provided below - ideally your code should pass all the tests:\n",
                "\n"
            ]
        },
        {
            "cell_type": "code",
            "execution_count": null,
            "metadata": {
                "QUESTION": "1a",
                "TYPE": "ANSWER",
                "cellcol": "answercell",
                "deletable": false
            },
            "outputs": [],
            "source": [
                "\n",
                "from collections import Counter\n",
                "\n",
                "\"\"\"\n",
                "A partial implementation of the Bag ADT, using the Counter class.\n",
                "\"\"\"\n",
                "\n",
                "class Bag:\n",
                "\n",
                "    def __init__(self):\n",
                "        \"\"\"Create a new empty bag.\"\"\"\n",
                "        self.items = Counter()\n",
                "        self.count = 0\n",
                "\n",
                "    def size(self) -> int:\n",
                "        \"\"\"Return the total number of copies of all items in the bag.\"\"\"\n",
                "        return self.count\n",
                "\n",
                "    def add(self, item: object) -> None:\n",
                "        \"\"\"Add one copy of item to the bag.\n",
                "           Multiple copies are allowed.\"\"\"\n",
                "        self.items[item] =  self.items[item] + 1\n",
                "        self.count = self.count + 1\n",
                "\n",
                "    def discard(self, item: object) -> None:\n",
                "        \"\"\" Remove at most one copy of item from the bag.\n",
                "            No effect if item is not in the bag.\n",
                "        \"\"\"\n",
                "        if self.items[item] > 0:\n",
                "           self.items[item] =  self.items[item] - 1   \n",
                "           self.count = self.count - 1\n",
                "\n",
                "\n",
                "    def contains(self, item: object) -> bool:\n",
                "        \"\"\" Return True if there is at least\n",
                "            one copy of item in the bag.\n",
                "        \"\"\"\n",
                "        # Add your own code here to replace the following statement\n",
                "        pass\n",
                "\n",
                "    def multiplicity(self, item: object) -> int:\n",
                "        \"\"\"Return the number of copies of item in the bag.      \n",
                "        Return zero if the item doesn't occur in the bag.\n",
                "        \"\"\"\n",
                "        # Add your own code here to replace the following statement\n",
                "        pass\n",
                "\n",
                "    def ordered(self) :     \n",
                "        \"\"\"Return the items ordered by decreasing multiplicity.\n",
                "        Return a list of (count, item) pairs.\n",
                "        \"\"\"\n",
                "        # You will be asked to add your own code here later\n",
                "        pass  \n",
                "\n",
                "\n",
                "\n",
                "\"\"\" ============================================================================ \"\"\"\n",
                "\"\"\" Test code for Q1(a) - you should run this code but do not need to change it. \"\"\"\n",
                "\n",
                "failed = 0\n",
                "ran = 0\n",
                "\n",
                "def test(name: str, actual: object, expected: object) -> None:\n",
                "    \"\"\"Report if test passed or failed.\"\"\"\n",
                "    global ran, failed\n",
                "    if actual == expected:\n",
                "        print(name, 'OK')\n",
                "    else:\n",
                "        print(name, 'FAILED: got', actual, 'instead of', expected)\n",
                "        failed += 1\n",
                "    ran += 1\n",
                "\n",
                "words = Bag()\n",
                "words.add('once')\n",
                "words.add('twice')\n",
                "words.add('twice')\n",
                "words.add('thrice')\n",
                "words.add('thrice')\n",
                "\n",
                "words.add('thrice')\n",
                "\n",
                "test('size after adds', words.size(), 6)\n",
                "test('non-existing item', words.multiplicity('none'),  0)\n",
                "test('twice occurs twice', words.multiplicity ('twice'),  2)\n",
                "test('thrice occurs thrice', words.multiplicity ('thrice'), 3)\n",
                "\n",
                "\n",
                "#Note attempting to remove more copies of 'twice' than are in the bag\n",
                "words.discard('twice')\n",
                "words.discard('twice')\n",
                "words.discard('twice')\n",
                "words.discard('twice')\n",
                "\n",
                "words.discard('thrice')\n",
                "\n",
                "\n",
                "test('size after discards', words.size(), 3)\n",
                "test('once remains once', words.multiplicity('once'), 1)\n",
                "test('twice gone', words.multiplicity('twice'), 0)\n",
                "test('thrice remains twice', words.multiplicity('thrice'), 2)\n",
                "\n",
                "\n",
                "test('contains once', words.contains('once'), True)\n",
                "test('does not contain twice', words. contains ('twice'), False)\n",
                "test('contains thrice', words.contains('thrice'), True)\n",
                "\n",
                "\n",
                "print()\n",
                "print('Ran', ran, 'tests:', ran - failed, 'OK,', failed, 'FAILED')\n",
                "\n",
                "if failed == 0:\n",
                "    print('You passed all our tests. Well done!')\n",
                "\n",
                "\n"
            ]
        },
        {
            "cell_type": "markdown",
            "metadata": {
                "TYPE": "TEXT",
                "deletable": false,
                "editable": false
            },
            "source": [
                "#### (b) (10 marks)\n",
                "\n",
                "We want to be able to carry out an analysis of words in long documents to find the most frequently used words. This can be used for example to identify the most important words for language learning or to try to identify authors in old literary works.   Later on we will ask you to analyse Shakespeare's Hamlet to find the 20 most frequent words and the number of times each word occurs.  Because the most common words are mainly stop words (articles, prepositions, etc.) and the play's characters (Hamlet, Horatio, etc.) we will also want the ability to exclude certain words from the analysis.\n",
                "First we want to explore the problem in a more general abstract form.  Explain the algorithms and ADTs you would use for the following problem.  Given a filename (string), a positive integer ```n``` and a list of excluded words (strings), find the ```n``` most frequent words in the file, apart from the excluded words, and their frequencies, given in descending order of frequency.\n",
                "\n"
            ]
        },
        {
            "cell_type": "markdown",
            "metadata": {
                "TYPE": "TEXT",
                "deletable": false,
                "editable": false
            },
            "source": [
                "#### (i) (5 marks)\n",
                "\n",
                "Write your answer in English, showing how your solution would work. The main ADT you use should be a bag, but if you need other ADTs or data structures you are free to choose from others covered in this module so far, such as lists, sets, queues, priority queues etc.\n",
                "\n"
            ]
        },
        {
            "cell_type": "markdown",
            "metadata": {
                "QUESTION": "1bi",
                "TYPE": "ANSWER",
                "cellcol": "answercell",
                "deletable": false
            },
            "source": [
                "Add your answer for Q1(b)(i) here:\n",
                "\n"
            ]
        },
        {
            "cell_type": "markdown",
            "metadata": {
                "TYPE": "TEXT",
                "deletable": false,
                "editable": false
            },
            "source": [
                "#### (ii) (5 marks)\n",
                "Now justify your solution by explaining the characteristics and the expected performance of each ADT or algorithm used, in standard Python implementations. \t \n",
                "\n"
            ]
        },
        {
            "cell_type": "markdown",
            "metadata": {
                "QUESTION": "1bii",
                "TYPE": "ANSWER",
                "cellcol": "answercell",
                "deletable": false
            },
            "source": [
                "Add your answer for Q1(b)(ii) here:\n",
                "\n"
            ]
        },
        {
            "cell_type": "markdown",
            "metadata": {
                "TYPE": "TEXT",
                "deletable": false,
                "editable": false
            },
            "source": [
                "#### (c) (11 marks)\n",
                "\n",
                "Implement your approach from part (b) to solve the abstract problem introduced in part (b) and repeated again here:\n",
                "\n",
                "Analyse Shakespeare's Hamlet (in the given text file ```hamlet.txt```) to find the 20 most frequent words and the number of times each word occurs.  Exclude from the analysis the words that are often most common but less important to the analysis: either so-called stop words (articles, prepositions, etc.) and words naming the play's characters (Hamlet, Horatio, etc.).  The file ```hamlet.txt``` may contain punctuation and extraneous characters at the start or end of words such as apostrophes, dashes etc and these should be removed before further processing. The excluded words are listed in the given text file ```hamlet_excluded_words.txt``` and this has been cleaned so that it just contains the relevant words, without any punctuation or extraneous characters.\n",
                "\n",
                "We have provided a framework for your solution below, with comments suggesting where you will need to make changes.\n",
                "\n",
                "You may find it easiest to approach the problem in stages. For example by initially ignoring the requirement to exclude certain words from the analysis, and adding that once you have the analysis working without exclusions, but that is up to you.\n",
                "\n",
                "Remember that you can only use the Python data types, methods and functions listed in the chapters' summaries.\n",
                "\n"
            ]
        },
        {
            "cell_type": "markdown",
            "metadata": {
                "TYPE": "TEXT",
                "deletable": false,
                "editable": false
            },
            "source": [
                "#### (i) (4 marks)\n",
                "\n",
                "As part of this implementation you will need to complete the ```ordered``` function which is part of the Bag class you worked on earlier, but the implementation should be consistent with your approach outlined in part (b).  Enter your code for the ```ordered``` function **above in the space shown for this in part (a) above**.\n",
                "\n"
            ]
        },
        {
            "cell_type": "markdown",
            "metadata": {
                "TYPE": "TEXT",
                "deletable": false,
                "editable": false
            },
            "source": [
                "#### (ii) (7 marks)\n",
                "We have provided a framework for the rest of your solution below. Please make the required changes as indicated by comments. When you have finished run your code to view the output.\n",
                "\n"
            ]
        },
        {
            "cell_type": "code",
            "execution_count": null,
            "metadata": {
                "QUESTION": "1cii",
                "TYPE": "ANSWER",
                "cellcol": "answercell",
                "deletable": false
            },
            "outputs": [],
            "source": [
                "\n",
                "# Change this code in the places indicated\n",
                "# in order to implement and test your solution\n",
                "\n",
                "def transform_punctuation(line: str) -> str:\n",
                "    \"\"\" transform any punctuation characters in line into spaces\n",
                "        returns the transformed line\n",
                "    \"\"\"\n",
                "    # You do not need to change this function or understand it in detail\n",
                "    for p in ['(','[', '{',')', ']','}', '.',',',';',':','_'] :\n",
                "        line = line.replace(p, ' ')\n",
                "\n",
                "    return line\n",
                "\n",
                "\n",
                "\"\"\"  You will need to complete this function so it carries out the\n",
                "     specified purpose. You should also set the return type annotation.\n",
                "\"\"\"\n",
                "def get_excluded_words(filename: str):\n",
                "    \"\"\"Return the excluded words occurring in filename in a suitable data\n",
                "       structure.\n",
                "\n",
                "       filename is a string with the name of a text file\n",
                "    \"\"\"\n",
                "\n",
                "    pass #  replace with your code\n",
                "\n",
                "    # We have provided the necessary file handling code below to extract\n",
                "    # each word from the file, since there should be no punctuation or\n",
                "    # extraneous characters in the file\n",
                "\n",
                "    # open the file in read-only mode\n",
                "    with open(filename, 'r' , encoding ='utf-8') as file:\n",
                "\n",
                "        # go through the file line by line\n",
                "        for line in file:\n",
                "\n",
                "            # use space to separate the words in a line\n",
                "            for word in line.split():\n",
                "                pass  #  replace with your code\n",
                "\n",
                "    return words\n",
                "\n",
                "\n",
                "\"\"\"  You will need to amend this function so that the excluded\n",
                "     words passed to the function are not added to the bag of words\n",
                "     that is returned. You should also set the type annotation\n",
                "     for the excluded words argument.\n",
                "\"\"\"\n",
                "def bag_of_words(filename: str, excluded_words) -> Bag:\n",
                "    \"\"\"Return the words occurring in filename as a bag-of-words.\n",
                "\n",
                "       filename is a string with the name of a text file\n",
                "    \"\"\"\n",
                "    # You do not need to understand the file handling code in detail\n",
                "    words = Bag()\n",
                "    # open the file in read-only mode\n",
                "    with open(filename, 'r', encoding ='utf-8') as file:\n",
                "        # go through the file line by line\n",
                "        for line in file:\n",
                "            # transform punctuation into space\n",
                "            line = transform_punctuation(line)\n",
                "\n",
                "            # use space to separate the words in a line\n",
                "            for word in line.split():\n",
                "                # remove quote marks and other characters\n",
                "                word = word.strip(\"'\\\"!?+-*/#\u2018\u2019\u2014\")\n",
                "                # put in lowercase\n",
                "                word = word.lower()\n",
                "                if not(word ==''):\n",
                "                    words.add(word)\n",
                "    return words\n",
                "\n",
                "\n",
                "print(\"Collecting excluded words in Shakespeare's Hamlet...\")\n",
                "\"\"\"  Replace the following line by your code to read the excluded words from text file\n",
                "     'hamlet_excluded_words.txt' and to store them in a suitable data structure.\n",
                "\"\"\"\n",
                "excluded_words = \"\"  # This is just a placeholder\n",
                "\n",
                "print(\"Collecting words in Shakespeare's Hamlet...\")\n",
                "\"\"\"  You should not need to amend the following function call.\n",
                "\"\"\"\n",
                "all_words = bag_of_words('hamlet.txt', excluded_words)\n",
                "\n",
                "\n",
                "print('Sorting the words by decreasing frequency...')\n",
                "#  Add your code here to produce the ordered list\n",
                "\n",
                "\n",
                "TOP = 20\n",
                "print(\"The\", TOP, \"most frequent words are:\")\n",
                "#  Add your code here to print out the start of the ordered list\n",
                "\n"
            ]
        },
        {
            "cell_type": "markdown",
            "metadata": {
                "TYPE": "TEXT",
                "deletable": false,
                "editable": false
            },
            "source": [
                "### Question 2 (25 marks)\n",
                "\n",
                "You should be able to answer this question after you have studied Chapter 16.\n",
                "This question tests the following learning outcomes:\n",
                "- Apply ADTs (e.g. binary trees and BSTs) and algorithmic techniques to efficiently solve computational problems.\n",
                "- Explain in a clear and succinct way how an algorithm or data structure works, and its assumptions, in order to communicate with peers\n",
                "- Analyse the complexity of algorithms to support design choices\n",
                "- Write readable, tested and documented Python functions and classes to implement algorithms and abstract data types\n",
                "\n",
                "**Binary trees** and **binary search trees** (BSTs) are explained in Chapter 16.   For this question we will make use of some of the Python code provided in Chapter 16 to implement these **recursive** data structures.\n",
                "We will do this by revisiting the context of the previous question \u2013 analysis of the words in long documents but in this case instead of ordering by frequency we wish to use the alphabetical order of words and to have the ability to efficiently search for data about a particular word.\n",
                "\n",
                "The following table shows the operations defined for binary trees in Chapter 16:\n",
                "\n",
                "| Operation | \tEffect |\tPython |\n",
                "| :--- | :-- |:-- |\n",
                "|New\t| create a new empty binary tree |\t```tree = Tree() ``` |\n",
                "| Is Empty |\treturns True if no items in the tree | ```is_empty(tree)``` |\n",
                "| Join\t| add left and right subtree to a given root item|```join(item, left, right)``` |\n",
                "| Leaf |\treturns True if the item is a single leaf |\t```is_leaf(tree)``` |\n",
                "| Size|\treturns total number of items in the tree |\t```size(tree)``` |\n",
                "\n",
                "The following table shows some of the operations defined for binary search trees in Chapter 16.  These make use of the operations for simple binary trees.  We have omitted some BST operations shown in Chapter 16 but not needed for this question.\n",
                "\n",
                "| Operation | \tEffect |\tPython |\n",
                "| :--- | :-- |:-- |\n",
                "|New\t| create a new empty binary (search) tree |\t```tree = Tree() ``` |\n",
                "|Associate|Associate the value to the key in the tree| ```associate(tree, key, value)```|\n",
                "| Has |\treturn True if a node of tree has the key| ```has(tree, key)``` |\n",
                "| Lookup\t| return the value associated to the key . . . Precondition: the BST `tree` must have the key|```lookup(tree, key)``` |\n",
                "| Height|\treturn how many levels the tree has | ```height(tree) ``` |\n",
                "| Balanced|\treturn True if the tree is balanced| ```is_balanced(tree) ``` |\n",
                "| Size|\treturn the number nodes in tree. | ```size(tree) ``` |\n",
                "\n",
                "\n",
                "\n"
            ]
        },
        {
            "cell_type": "markdown",
            "metadata": {
                "TYPE": "TEXT",
                "deletable": false,
                "editable": false
            },
            "source": [
                "#### (a)\n",
                "\n",
                "We want to be able to carry out an analysis of words in long documents by storing all the words in alphabetical order together with data about each word, initially its frequency in a given document.  This data can then be searched for a given word to extract the associated data.  Later on we will ask you to apply this analysis to Shakespeare's Hamlet to store all the words together with the frequency of that word.  For this question, we will assume that **the file has been cleaned** to remove all punctuation and other unnecessary characters such as quote marks.\n",
                "\n",
                "First we want to explore the problem in a more general abstract form.  Explain how you would use a BST to solve the following problem.  Given the name (string) of a text file containing words, arrange the words in alphabetical order together with the frequency of occurrence of each word, to allow searching for a given word and its associated data, and to output the data in alphabetical order of the stored words.\n",
                "\n"
            ]
        },
        {
            "cell_type": "markdown",
            "metadata": {
                "TYPE": "TEXT",
                "deletable": false,
                "editable": false
            },
            "source": [
                "#### (i) (4 marks)\n",
                "\n",
                "Write your answer in English, showing how your solution would work. The only ADT you use should be a BST, though you can use other standard simple built-in data structures of Python such as lists or strings, if necessary.  You can make use of any of the BST operations listed in the above table.\t\t\t\t\t\t\n",
                "\n"
            ]
        },
        {
            "cell_type": "markdown",
            "metadata": {
                "QUESTION": "2ai",
                "TYPE": "ANSWER",
                "cellcol": "answercell",
                "deletable": false
            },
            "source": [
                "*Write your answer here*\n",
                "\n",
                "\n"
            ]
        },
        {
            "cell_type": "markdown",
            "metadata": {
                "TYPE": "TEXT",
                "deletable": false,
                "editable": false
            },
            "source": [
                "#### (ii) (4 marks)\n",
                "\n",
                "Now justify your approach by explaining the characteristics and the expected performance of the BST and the algorithms using BST operations, in standard Python implementations, and referencing the performance discussions for trees and BSTs in Chapter 16.\t                             \n",
                "\n",
                "\n"
            ]
        },
        {
            "cell_type": "markdown",
            "metadata": {
                "QUESTION": "2aii",
                "TYPE": "ANSWER",
                "cellcol": "answercell",
                "deletable": false
            },
            "source": [
                "*Write your answer here*\n",
                "\n"
            ]
        },
        {
            "cell_type": "markdown",
            "metadata": {
                "TYPE": "TEXT",
                "deletable": false,
                "editable": false
            },
            "source": [
                "#### (b) (9 marks)\n",
                "\n",
                "Implement your approach from part (a) to solve the abstract problem introduced in part (a) and repeated again here:\n",
                "\n",
                "Analyse Shakespeare's Hamlet (in the given text file `cleaned_hamlet.txt`) to store all the words in alphabetical order, together with the frequency of that word.   You can assume that all punctuation and unnecessary leading and trailing characters (such as quote marks) as well as the very common excluded words have already been removed.\n",
                "\n",
                "We have provided a framework for your solution below, with comments suggesting where you will need to make changes.\n",
                "\n",
                "You may find it easiest to approach the problem in stages \u2013 for example by initially ignoring the need to increment the word frequency and just storing a frequency of 1 for each word found \u2013 then later adding the ability to update the frequency for any repeated words, but that is up to you.\n",
                "Remember that you can only use the Python data types, methods and functions listed in the chapters' summaries.\n",
                "\n",
                "You should make use of relevant parts of the above code as demonstrated in Chapter 16 for the Tree ADT and for BSTs - this code is in the files ``m269_tree.py``, ``16_4_bst.py`` and ``16_5_balanced.py``, listed at the start of the framework code below. You should ensure these files are in the same folder as this notebook.\n",
                "\n",
                "When you have made the required changes run your code and check that the output seems reasonable.\n",
                "\n",
                "\n"
            ]
        },
        {
            "cell_type": "code",
            "execution_count": null,
            "metadata": {
                "QUESTION": "2b",
                "TYPE": "ANSWER",
                "cellcol": "answercell",
                "deletable": false
            },
            "outputs": [],
            "source": [
                "\n",
                "%run -i m269_tree\n",
                "%run -i 16_4_bst\n",
                "%run -i 16_5_balanced\n",
                "\n",
                "\n",
                "def tree_of_words(filename: str)-> Tree:\n",
                "    \"\"\"Return the words occurring in filename as a BST-of-words\n",
                "       ordered in alphabetical order of the words\n",
                "\n",
                "    filename is a string with the name of a text file\n",
                "    \"\"\"\n",
                "    words = Tree()\n",
                "    # open the file in read-only mode\n",
                "    with open(filename, 'r', encoding ='utf-8') as file:\n",
                "        # go through the file line by line\n",
                "        for line in file:\n",
                "            # use space to separate the words in a line\n",
                "            for word in line.split():\n",
                "                if not(word ==''):\n",
                "                    # replace the following line with your code to\n",
                "                    # create or update the node for this word\n",
                "                    # there are bonus marks for doing this efficiently\n",
                "                    pass  \n",
                "    return words\n",
                "\n",
                "def print_in_order(tree: Tree) -> None:\n",
                "    \"\"\"Print tree contents in order.\"\"\"\n",
                "    # replace the following line with your code for this function\n",
                "    # Hint: you will need to use recursion\n",
                "    pass\n",
                "\n",
                "\n",
                "print(\"Collecting words in Shakespeare's Hamlet...\")\n",
                "\n",
                "all_words = tree_of_words('cleaned_hamlet.txt')\n",
                "print(\"Done\")\n",
                "\n",
                "print_in_order(all_words)\n",
                "\n"
            ]
        },
        {
            "cell_type": "markdown",
            "metadata": {
                "TYPE": "TEXT",
                "deletable": false,
                "editable": false
            },
            "source": [
                "#### (c)\n",
                "\n",
                "\n"
            ]
        },
        {
            "cell_type": "markdown",
            "metadata": {
                "TYPE": "TEXT",
                "deletable": false,
                "editable": false
            },
            "source": [
                "#### (i) (3 marks)\n",
                "Add code below to find the number of occurrences of each of the following words and show your results:  \n",
                "    `death`, `slings`, `arrowed`.\n",
                "\n"
            ]
        },
        {
            "cell_type": "code",
            "execution_count": null,
            "metadata": {
                "QUESTION": "2ci",
                "TYPE": "ANSWER",
                "cellcol": "answercell",
                "deletable": false
            },
            "outputs": [],
            "source": [
                "def lookup_frequency(tree: Tree, word: str) -> int:\n",
                "    \"\"\"Return the frequency of occurrence of word in BST tree\n",
                "    \"\"\"\n",
                "    # replace the following line with your code for this function\n",
                "    pass\n",
                "\n",
                "# Amend the following statements to call the function above\n",
                "# so as to display the frequency of each word in the BST all_words\n",
                "print('death:')\n",
                "print('slings:')\n",
                "print('arrowed:')\n",
                "\n",
                "\n"
            ]
        },
        {
            "cell_type": "markdown",
            "metadata": {
                "TYPE": "TEXT",
                "deletable": false,
                "editable": false
            },
            "source": [
                "#### (ii) (5 marks)\n",
                "\n",
                "Add code below to find the height and size (number of non-empty nodes) of your completed BST.  Compare this height to the expected height of a perfectly balanced binary tree with the same number of elements.  Discuss what effect the shape of your BST could be expected to have on efficiency of BST operations\n",
                "\n",
                "\n"
            ]
        },
        {
            "cell_type": "code",
            "execution_count": null,
            "metadata": {
                "QUESTION": "2cii",
                "TYPE": "ANSWER",
                "cellcol": "answercell",
                "deletable": false
            },
            "outputs": [],
            "source": [
                "\n",
                "from math import log2\n",
                "\n",
                "print('Tree is balanced:', is_balanced(all_words))\n",
                "# replace the following line with your code to answer this question\n",
                "pass\n",
                "\n",
                "\n"
            ]
        },
        {
            "cell_type": "markdown",
            "metadata": {
                "TYPE": "TEXT",
                "deletable": false,
                "editable": false
            },
            "source": [
                "## NOTE:\n",
                "Do **not** submit this part of the TMA until you have completed Part 2 as well.\n"
            ]
        }
    ],
    "metadata": {
        "kernelspec": {
            "display_name": "Python 3",
            "language": "python",
            "name": "python3"
        },
        "language_info": {
            "codemirror_mode": {
                "name": "ipython",
                "version": 3
            },
            "file_extension": ".py",
            "mimetype": "text/x-python",
            "name": "python",
            "nbconvert_exporter": "python",
            "pygments_lexer": "ipython3",
            "version": "3.8.3"
        },
        "toc": {
            "base_numbering": 1,
            "nav_menu": {},
            "number_sections": false,
            "sideBar": true,
            "skip_h1_title": false,
            "title_cell": "Table of Contents",
            "title_sidebar": "Contents",
            "toc_cell": false,
            "toc_position": {},
            "toc_section_display": true,
            "toc_window_display": false
        }
    },
    "nbformat": 4,
    "nbformat_minor": 4
}